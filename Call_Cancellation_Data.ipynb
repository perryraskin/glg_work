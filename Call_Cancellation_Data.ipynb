{
 "cells": [
  {
   "cell_type": "code",
   "execution_count": 326,
   "metadata": {
    "collapsed": true
   },
   "outputs": [],
   "source": [
    "#%load_ext autoreload\n",
    "#%autoreload 2\n",
    "%reload_ext autoreload\n",
    "from matplotlib.pyplot import *\n",
    "import matplotlib.pyplot as plt\n",
    "import jupyter\n",
    "import pymssql\n",
    "import plotly \n",
    "plotly.tools.set_credentials_file(username='perryraskin', api_key='2Qc3hhnv8Z4aEiUdajJ2')\n",
    "import plotly.plotly as py\n",
    "import plotly.graph_objs as go\n",
    "from plotly.graph_objs import *\n",
    "import pandas as pd\n",
    "import numpy as np\n",
    "from datetime import datetime\n",
    "from sklearn import preprocessing\n",
    "%matplotlib inline\n",
    "pd.options.mode.chained_assignment = None\n",
    "import glglive\n",
    "import dateutil\n",
    "import datetime as dt"
   ]
  },
  {
   "cell_type": "code",
   "execution_count": 231,
   "metadata": {
    "collapsed": true
   },
   "outputs": [],
   "source": [
    "glg_data = glglive.pandas_the_data('./sql/Call_Cancellations.sql')"
   ]
  },
  {
   "cell_type": "code",
   "execution_count": 232,
   "metadata": {
    "scrolled": false
   },
   "outputs": [
    {
     "data": {
      "text/html": [
       "<div>\n",
       "<style>\n",
       "    .dataframe thead tr:only-child th {\n",
       "        text-align: right;\n",
       "    }\n",
       "\n",
       "    .dataframe thead th {\n",
       "        text-align: left;\n",
       "    }\n",
       "\n",
       "    .dataframe tbody tr th {\n",
       "        vertical-align: top;\n",
       "    }\n",
       "</style>\n",
       "<table border=\"1\" class=\"dataframe\">\n",
       "  <thead>\n",
       "    <tr style=\"text-align: right;\">\n",
       "      <th></th>\n",
       "      <th>scheduled_on</th>\n",
       "      <th>app</th>\n",
       "      <th>scheduled_by</th>\n",
       "      <th>bu</th>\n",
       "      <th>total_originally_scheduled</th>\n",
       "      <th>total_rescheduled</th>\n",
       "      <th>total_cancelled</th>\n",
       "    </tr>\n",
       "  </thead>\n",
       "  <tbody>\n",
       "    <tr>\n",
       "      <th>0</th>\n",
       "      <td>2016-11-01</td>\n",
       "      <td>go</td>\n",
       "      <td>cm</td>\n",
       "      <td>corporate</td>\n",
       "      <td>6</td>\n",
       "      <td>1</td>\n",
       "      <td>1</td>\n",
       "    </tr>\n",
       "    <tr>\n",
       "      <th>1</th>\n",
       "      <td>2016-11-01</td>\n",
       "      <td>go</td>\n",
       "      <td>cm</td>\n",
       "      <td>psf</td>\n",
       "      <td>2</td>\n",
       "      <td>1</td>\n",
       "      <td>0</td>\n",
       "    </tr>\n",
       "    <tr>\n",
       "      <th>2</th>\n",
       "      <td>2016-11-01</td>\n",
       "      <td>go</td>\n",
       "      <td>cm</td>\n",
       "      <td>lifeSciences</td>\n",
       "      <td>4</td>\n",
       "      <td>2</td>\n",
       "      <td>1</td>\n",
       "    </tr>\n",
       "    <tr>\n",
       "      <th>3</th>\n",
       "      <td>2016-11-01</td>\n",
       "      <td>go</td>\n",
       "      <td>cm</td>\n",
       "      <td>fs</td>\n",
       "      <td>63</td>\n",
       "      <td>16</td>\n",
       "      <td>9</td>\n",
       "    </tr>\n",
       "    <tr>\n",
       "      <th>4</th>\n",
       "      <td>2016-11-01</td>\n",
       "      <td>go-engage</td>\n",
       "      <td>rm</td>\n",
       "      <td>fs</td>\n",
       "      <td>4</td>\n",
       "      <td>1</td>\n",
       "      <td>0</td>\n",
       "    </tr>\n",
       "  </tbody>\n",
       "</table>\n",
       "</div>"
      ],
      "text/plain": [
       "  scheduled_on        app scheduled_by            bu  \\\n",
       "0   2016-11-01         go           cm     corporate   \n",
       "1   2016-11-01         go           cm           psf   \n",
       "2   2016-11-01         go           cm  lifeSciences   \n",
       "3   2016-11-01         go           cm            fs   \n",
       "4   2016-11-01  go-engage           rm            fs   \n",
       "\n",
       "   total_originally_scheduled  total_rescheduled  total_cancelled  \n",
       "0                           6                  1                1  \n",
       "1                           2                  1                0  \n",
       "2                           4                  2                1  \n",
       "3                          63                 16                9  \n",
       "4                           4                  1                0  "
      ]
     },
     "execution_count": 232,
     "metadata": {},
     "output_type": "execute_result"
    }
   ],
   "source": [
    "glg_data.head()"
   ]
  },
  {
   "cell_type": "code",
   "execution_count": 233,
   "metadata": {
    "collapsed": true
   },
   "outputs": [],
   "source": [
    "df = pd.DataFrame(glg_data)"
   ]
  },
  {
   "cell_type": "code",
   "execution_count": 234,
   "metadata": {},
   "outputs": [
    {
     "data": {
      "text/html": [
       "<div>\n",
       "<style>\n",
       "    .dataframe thead tr:only-child th {\n",
       "        text-align: right;\n",
       "    }\n",
       "\n",
       "    .dataframe thead th {\n",
       "        text-align: left;\n",
       "    }\n",
       "\n",
       "    .dataframe tbody tr th {\n",
       "        vertical-align: top;\n",
       "    }\n",
       "</style>\n",
       "<table border=\"1\" class=\"dataframe\">\n",
       "  <thead>\n",
       "    <tr style=\"text-align: right;\">\n",
       "      <th></th>\n",
       "      <th>scheduled_on</th>\n",
       "      <th>app</th>\n",
       "      <th>scheduled_by</th>\n",
       "      <th>bu</th>\n",
       "      <th>total_originally_scheduled</th>\n",
       "      <th>total_rescheduled</th>\n",
       "      <th>total_cancelled</th>\n",
       "    </tr>\n",
       "  </thead>\n",
       "  <tbody>\n",
       "    <tr>\n",
       "      <th>0</th>\n",
       "      <td>2016-11-01</td>\n",
       "      <td>go</td>\n",
       "      <td>cm</td>\n",
       "      <td>corporate</td>\n",
       "      <td>6</td>\n",
       "      <td>1</td>\n",
       "      <td>1</td>\n",
       "    </tr>\n",
       "    <tr>\n",
       "      <th>1</th>\n",
       "      <td>2016-11-01</td>\n",
       "      <td>go</td>\n",
       "      <td>cm</td>\n",
       "      <td>psf</td>\n",
       "      <td>2</td>\n",
       "      <td>1</td>\n",
       "      <td>0</td>\n",
       "    </tr>\n",
       "    <tr>\n",
       "      <th>2</th>\n",
       "      <td>2016-11-01</td>\n",
       "      <td>go</td>\n",
       "      <td>cm</td>\n",
       "      <td>lifeSciences</td>\n",
       "      <td>4</td>\n",
       "      <td>2</td>\n",
       "      <td>1</td>\n",
       "    </tr>\n",
       "    <tr>\n",
       "      <th>3</th>\n",
       "      <td>2016-11-01</td>\n",
       "      <td>go</td>\n",
       "      <td>cm</td>\n",
       "      <td>fs</td>\n",
       "      <td>63</td>\n",
       "      <td>16</td>\n",
       "      <td>9</td>\n",
       "    </tr>\n",
       "    <tr>\n",
       "      <th>4</th>\n",
       "      <td>2016-11-01</td>\n",
       "      <td>go-engage</td>\n",
       "      <td>rm</td>\n",
       "      <td>fs</td>\n",
       "      <td>4</td>\n",
       "      <td>1</td>\n",
       "      <td>0</td>\n",
       "    </tr>\n",
       "  </tbody>\n",
       "</table>\n",
       "</div>"
      ],
      "text/plain": [
       "  scheduled_on        app scheduled_by            bu  \\\n",
       "0   2016-11-01         go           cm     corporate   \n",
       "1   2016-11-01         go           cm           psf   \n",
       "2   2016-11-01         go           cm  lifeSciences   \n",
       "3   2016-11-01         go           cm            fs   \n",
       "4   2016-11-01  go-engage           rm            fs   \n",
       "\n",
       "   total_originally_scheduled  total_rescheduled  total_cancelled  \n",
       "0                           6                  1                1  \n",
       "1                           2                  1                0  \n",
       "2                           4                  2                1  \n",
       "3                          63                 16                9  \n",
       "4                           4                  1                0  "
      ]
     },
     "execution_count": 234,
     "metadata": {},
     "output_type": "execute_result"
    }
   ],
   "source": [
    "df.head()"
   ]
  },
  {
   "cell_type": "code",
   "execution_count": 235,
   "metadata": {
    "collapsed": true
   },
   "outputs": [],
   "source": [
    "df3 = pd.DataFrame(np.random.randn(1000, 2), columns=['B', 'C']).cumsum()"
   ]
  },
  {
   "cell_type": "code",
   "execution_count": 236,
   "metadata": {
    "collapsed": true
   },
   "outputs": [],
   "source": [
    "df3['A'] = pd.Series(list(range(len(df))))"
   ]
  },
  {
   "cell_type": "code",
   "execution_count": 237,
   "metadata": {},
   "outputs": [
    {
     "data": {
      "text/plain": [
       "<matplotlib.axes._subplots.AxesSubplot at 0x10456f320>"
      ]
     },
     "execution_count": 237,
     "metadata": {},
     "output_type": "execute_result"
    },
    {
     "data": {
      "image/png": "[encoded data removed]",
      "text/plain": [
       "<matplotlib.figure.Figure at 0x10ce7b828>"
      ]
     },
     "metadata": {},
     "output_type": "display_data"
    }
   ],
   "source": [
    "df3.plot(x='A', y='B')"
   ]
  },
  {
   "cell_type": "code",
   "execution_count": 238,
   "metadata": {},
   "outputs": [
    {
     "data": {
      "text/plain": [
       "<matplotlib.text.Text at 0x10837ed68>"
      ]
     },
     "execution_count": 238,
     "metadata": {},
     "output_type": "execute_result"
    },
    {
     "data": {
      "image/png": "[encoded data removed]",
      "text/plain": [
       "<matplotlib.figure.Figure at 0x10be2a438>"
      ]
     },
     "metadata": {},
     "output_type": "display_data"
    }
   ],
   "source": [
    "#-- TOTAL RESCHEDULED/CANCELLED CALLS THIS MONTH--#\n",
    "\n",
    "# sort df by descending Total Scheduled Calls\n",
    "#dfsw = df.sort_values(['Total_Scheduled_Calls'], ascending=False)\n",
    "\n",
    "# only show data from this month\n",
    "df['scheduled_on'] = pd.to_datetime(df['scheduled_on'])\n",
    "mask = (df['scheduled_on'] >= '2017-07-01') & (df['scheduled_on'] <= '2017-07-31')\n",
    "dfm = df.loc[mask]\n",
    "\n",
    "# group by type of scheduler and sum amount of calls\n",
    "dfg = dfm.groupby(['scheduled_by']).sum().reset_index()\n",
    "\n",
    "# values from table\n",
    "groups = [[dfg['total_rescheduled'][0], dfg['total_cancelled'][0]],\n",
    "       [dfg['total_rescheduled'][1], dfg['total_cancelled'][1]],\n",
    "       [dfg['total_rescheduled'][2], dfg['total_cancelled'][2]]]\n",
    "\n",
    "group_labels = [dfg['scheduled_by'][0], dfg['scheduled_by'][1], dfg['scheduled_by'][2]]\n",
    "group_metrics = [\"Rescheduled\",\"Cancelled\"]\n",
    "\n",
    "data = pd.DataFrame(groups, index = group_labels, columns = group_metrics)\n",
    "\n",
    "data.plot.bar(rot=0).legend(bbox_to_anchor=(1, 1))\n",
    "plt.title('Total Scheduled Calls for July', fontsize= 18)\n",
    "plt.xlabel('Scheduled by', fontsize=16) #xlabel\n",
    "plt.ylabel('Total Calls', fontsize=16) #ylabel"
   ]
  },
  {
   "cell_type": "code",
   "execution_count": null,
   "metadata": {
    "collapsed": true
   },
   "outputs": [],
   "source": []
  },
  {
   "cell_type": "code",
   "execution_count": null,
   "metadata": {
    "collapsed": true
   },
   "outputs": [],
   "source": []
  },
  {
   "cell_type": "code",
   "execution_count": 292,
   "metadata": {},
   "outputs": [
    {
     "data": {
      "text/plain": [
       "<matplotlib.text.Text at 0x10e04b5f8>"
      ]
     },
     "execution_count": 292,
     "metadata": {},
     "output_type": "execute_result"
    },
    {
     "data": {
      "image/png": "[encoded data removed]",
      "text/plain": [
       "<matplotlib.figure.Figure at 0x10df9b3c8>"
      ]
     },
     "metadata": {},
     "output_type": "display_data"
    }
   ],
   "source": [
    "#-- TOTAL CANCELLED CALLS THIS MONTH--#\n",
    "\n",
    "# sort df by descending Total Scheduled Calls\n",
    "#dfsw = df.sort_values(['Total_Scheduled_Calls'], ascending=False)\n",
    "\n",
    "# only show data from this month\n",
    "df['scheduled_on'] = pd.to_datetime(df['scheduled_on'])\n",
    "mask = (df['scheduled_on'] >= '2017-07-01') & (df['scheduled_on'] <= '2017-07-31')\n",
    "dfm = df.loc[mask]\n",
    "\n",
    "# group by type of scheduler and sum amount of calls\n",
    "dfg = dfm.groupby(['scheduled_by']).sum().reset_index()\n",
    "\n",
    "# values from table\n",
    "groups = [[dfg['total_cancelled'][0]],\n",
    "       [dfg['total_cancelled'][1]],\n",
    "       [dfg['total_cancelled'][2]]]\n",
    "\n",
    "group_labels = [dfg['scheduled_by'][0], dfg['scheduled_by'][1], dfg['scheduled_by'][2]]\n",
    "group_metrics = [\"Cancelled\"]\n",
    "data = pd.DataFrame(groups, index = group_labels, columns = group_metrics)\n",
    "\n",
    "data.plot.bar(rot=0, color=\"red\").legend(bbox_to_anchor=(1, 1))\n",
    "plt.title('Total Cancelled Calls for July', fontsize= 18)\n",
    "plt.xlabel('Scheduled by', fontsize=16) #xlabel\n",
    "plt.ylabel('Total Calls', fontsize=16) #ylabel"
   ]
  },
  {
   "cell_type": "code",
   "execution_count": 497,
   "metadata": {},
   "outputs": [
    {
     "data": {
      "text/plain": [
       "<matplotlib.text.Text at 0x118f34f28>"
      ]
     },
     "execution_count": 497,
     "metadata": {},
     "output_type": "execute_result"
    },
    {
     "data": {
      "image/png": "[encoded data removed]",
      "text/plain": [
       "<matplotlib.figure.Figure at 0x118686940>"
      ]
     },
     "metadata": {},
     "output_type": "display_data"
    }
   ],
   "source": [
    "#-- TOTAL RESCHEDULED/CANCELLED CALLS BY MONTH --#\n",
    "\n",
    "# Dict for month number = month name\n",
    "month = {\n",
    "    1: \"Jan\",\n",
    "    2: \"Feb\",\n",
    "    3: \"Mar\",\n",
    "    4: \"Apr\",\n",
    "    5: \"May\",\n",
    "    6: \"Jun\",\n",
    "    7: \"Jul\",\n",
    "    8: \"Aug\",\n",
    "    9: \"Sep\",\n",
    "    10: \"Oct\",\n",
    "    11: \"Nov\",\n",
    "    12: \"Dec\"\n",
    "}\n",
    "\n",
    "# Group by month\n",
    "dfi = df\n",
    "dfi.index = dfi[\"scheduled_on\"]\n",
    "dfg = dfi.resample('M').sum()\n",
    "\n",
    "# Values from table to visualize\n",
    "groups = []\n",
    "rescheduled = dfg['total_rescheduled']\n",
    "cancelled = dfg['total_cancelled']\n",
    "numElements = len(rescheduled)\n",
    "\n",
    "for i in range(numElements):\n",
    "    groups.append([rescheduled[i], cancelled[i]])\n",
    "    \n",
    "# Months that we have call data for (x-axis)\n",
    "group_labels=[]\n",
    "for i, value in enumerate(dfg.index):\n",
    "    group_labels.append(month[value.month] + \" \" + str(value.year))\n",
    "\n",
    "group_metrics = [\"Rescheduled\", \"Cancelled\"]\n",
    "color_list = ['dodgerblue', 'crimson']\n",
    "\n",
    "data = pd.DataFrame(groups, index = group_labels, columns = group_metrics)\n",
    "\n",
    "data.plot.bar(rot=0, stacked=True, figsize=(12,5), color=color_list).legend(bbox_to_anchor=(1, 1))\n",
    "plt.title('Rescheduled and Cancelled Calls', fontsize= 18)\n",
    "plt.xlabel('Month', fontsize=16) #xlabel\n",
    "plt.ylabel('Total Calls', fontsize=16) #ylabel"
   ]
  },
  {
   "cell_type": "code",
   "execution_count": 466,
   "metadata": {},
   "outputs": [
    {
     "data": {
      "text/html": [
       "<div>\n",
       "<style>\n",
       "    .dataframe thead tr:only-child th {\n",
       "        text-align: right;\n",
       "    }\n",
       "\n",
       "    .dataframe thead th {\n",
       "        text-align: left;\n",
       "    }\n",
       "\n",
       "    .dataframe tbody tr th {\n",
       "        vertical-align: top;\n",
       "    }\n",
       "</style>\n",
       "<table border=\"1\" class=\"dataframe\">\n",
       "  <thead>\n",
       "    <tr style=\"text-align: right;\">\n",
       "      <th></th>\n",
       "      <th>total_originally_scheduled</th>\n",
       "      <th>total_rescheduled</th>\n",
       "      <th>total_cancelled</th>\n",
       "    </tr>\n",
       "    <tr>\n",
       "      <th>scheduled_on</th>\n",
       "      <th></th>\n",
       "      <th></th>\n",
       "      <th></th>\n",
       "    </tr>\n",
       "  </thead>\n",
       "  <tbody>\n",
       "    <tr>\n",
       "      <th>2016-11-30</th>\n",
       "      <td>22985</td>\n",
       "      <td>7492</td>\n",
       "      <td>3613</td>\n",
       "    </tr>\n",
       "    <tr>\n",
       "      <th>2016-12-31</th>\n",
       "      <td>17665</td>\n",
       "      <td>5746</td>\n",
       "      <td>2627</td>\n",
       "    </tr>\n",
       "    <tr>\n",
       "      <th>2017-01-31</th>\n",
       "      <td>22852</td>\n",
       "      <td>7598</td>\n",
       "      <td>3362</td>\n",
       "    </tr>\n",
       "    <tr>\n",
       "      <th>2017-02-28</th>\n",
       "      <td>22985</td>\n",
       "      <td>7840</td>\n",
       "      <td>3544</td>\n",
       "    </tr>\n",
       "    <tr>\n",
       "      <th>2017-03-31</th>\n",
       "      <td>27652</td>\n",
       "      <td>9705</td>\n",
       "      <td>4318</td>\n",
       "    </tr>\n",
       "    <tr>\n",
       "      <th>2017-04-30</th>\n",
       "      <td>23458</td>\n",
       "      <td>8252</td>\n",
       "      <td>3874</td>\n",
       "    </tr>\n",
       "    <tr>\n",
       "      <th>2017-05-31</th>\n",
       "      <td>26269</td>\n",
       "      <td>9413</td>\n",
       "      <td>4343</td>\n",
       "    </tr>\n",
       "    <tr>\n",
       "      <th>2017-06-30</th>\n",
       "      <td>26822</td>\n",
       "      <td>9423</td>\n",
       "      <td>4288</td>\n",
       "    </tr>\n",
       "    <tr>\n",
       "      <th>2017-07-31</th>\n",
       "      <td>25362</td>\n",
       "      <td>8866</td>\n",
       "      <td>4038</td>\n",
       "    </tr>\n",
       "    <tr>\n",
       "      <th>2017-08-31</th>\n",
       "      <td>10719</td>\n",
       "      <td>3314</td>\n",
       "      <td>1409</td>\n",
       "    </tr>\n",
       "  </tbody>\n",
       "</table>\n",
       "</div>"
      ],
      "text/plain": [
       "              total_originally_scheduled  total_rescheduled  total_cancelled\n",
       "scheduled_on                                                                \n",
       "2016-11-30                         22985               7492             3613\n",
       "2016-12-31                         17665               5746             2627\n",
       "2017-01-31                         22852               7598             3362\n",
       "2017-02-28                         22985               7840             3544\n",
       "2017-03-31                         27652               9705             4318\n",
       "2017-04-30                         23458               8252             3874\n",
       "2017-05-31                         26269               9413             4343\n",
       "2017-06-30                         26822               9423             4288\n",
       "2017-07-31                         25362               8866             4038\n",
       "2017-08-31                         10719               3314             1409"
      ]
     },
     "execution_count": 466,
     "metadata": {},
     "output_type": "execute_result"
    }
   ],
   "source": [
    "dfg"
   ]
  },
  {
   "cell_type": "code",
   "execution_count": 528,
   "metadata": {},
   "outputs": [
    {
     "data": {
      "text/plain": [
       "[34090, 26038, 33812, 34369, 41675, 35584, 40025, 40533, 38266, 15442]"
      ]
     },
     "execution_count": 528,
     "metadata": {},
     "output_type": "execute_result"
    }
   ],
   "source": [
    "totals"
   ]
  },
  {
   "cell_type": "code",
   "execution_count": 530,
   "metadata": {},
   "outputs": [
    {
     "data": {
      "image/png": "[encoded data removed]",
      "text/plain": [
       "<matplotlib.figure.Figure at 0x11bdade10>"
      ]
     },
     "metadata": {},
     "output_type": "display_data"
    }
   ],
   "source": [
    "# Create a figure with a single subplot\n",
    "f, ax = plt.subplots(1, figsize=(10,5))\n",
    "\n",
    "# Set bar width at 1\n",
    "bar_width = 1\n",
    "\n",
    "# positions of the left bar-boundaries\n",
    "bar_l = [i for i in range(len(dfg['total_originally_scheduled']))]\n",
    "\n",
    "# positions of the x-axis ticks (center of the bars as bar labels)\n",
    "tick_pos = [i+(bar_width/2) for i in bar_l]\n",
    "\n",
    "# Create the total calls for each month\n",
    "totals = [i+j+k for i,j,k in zip(dfg['total_originally_scheduled'], dfg['total_rescheduled'], dfg['total_cancelled'])]\n",
    "\n",
    "# Create the percentage of the total amount of originally scheduled calls for each month\n",
    "orig_rel = [i / j * 100 for  i,j in zip(dfg['total_originally_scheduled'], totals)]\n",
    "\n",
    "# Create the percentage of the total amount of rescheduled calls for each month\n",
    "res_rel = [i / j * 100 for  i,j in zip(dfg['total_rescheduled'], totals)]\n",
    "\n",
    "# Create the percentage of the total amount of cancelled calls for each month\n",
    "can_rel = [i / j * 100 for  i,j in zip(dfg['total_cancelled'], totals)]\n",
    "\n",
    "# Create a bar chart in position bar_1\n",
    "ax.bar(bar_l,\n",
    "       # using orig_rel data\n",
    "       orig_rel,\n",
    "       # labeled\n",
    "       label='Original',\n",
    "       # with alpha\n",
    "       alpha=0.9,\n",
    "       # with color\n",
    "       color='#019600',\n",
    "       # with bar width\n",
    "       width=bar_width,\n",
    "       # with border color\n",
    "       edgecolor='white'\n",
    "       )\n",
    "\n",
    "# Create a bar chart in position bar_1\n",
    "ax.bar(bar_l,\n",
    "       # using res_rel data\n",
    "       res_rel,\n",
    "       # with orig_rel\n",
    "       bottom=orig_rel,\n",
    "       # labeled\n",
    "       label='Rescheduled',\n",
    "       # with alpha\n",
    "       alpha=0.9,\n",
    "       # with color\n",
    "       color='dodgerblue',\n",
    "       # with bar width\n",
    "       width=bar_width,\n",
    "       # with border color\n",
    "       edgecolor='white'\n",
    "       )\n",
    "\n",
    "# Create a bar chart in position bar_1\n",
    "ax.bar(bar_l,\n",
    "       # using can_rel data\n",
    "       can_rel,\n",
    "       # with orig_rel and res_rel on bottom\n",
    "       bottom=[i+j for i,j in zip(orig_rel, res_rel)],\n",
    "       # labeled\n",
    "       label='Cancelled',\n",
    "       # with alpha\n",
    "       alpha=0.9,\n",
    "       # with color\n",
    "       color='crimson',\n",
    "       # with bar width\n",
    "       width=bar_width,\n",
    "       # with border color\n",
    "       edgecolor='white'\n",
    "       )\n",
    "\n",
    "# Set the ticks to be months\n",
    "plt.xticks(tick_pos, dfg.index.month)\n",
    "ax.set_ylabel(\"Percentage\")\n",
    "ax.set_xlabel(\"\")\n",
    "\n",
    "# Let the borders of the graphic\n",
    "plt.xlim([min(tick_pos)-bar_width, max(tick_pos)+bar_width])\n",
    "plt.ylim(-10, 110)\n",
    "\n",
    "# rotate axis labels\n",
    "plt.setp(plt.gca().get_xticklabels(), rotation=45, horizontalalignment='right')\n",
    "\n",
    "# show plot\n",
    "plt.show()"
   ]
  },
  {
   "cell_type": "code",
   "execution_count": 517,
   "metadata": {},
   "outputs": [
    {
     "data": {
      "image/png": "[encoded data removed]",
      "text/plain": [
       "<matplotlib.figure.Figure at 0x1163dfa20>"
      ]
     },
     "metadata": {},
     "output_type": "display_data"
    }
   ],
   "source": [
    "raw_data = {'first_name': ['Jason', 'Molly', 'Tina', 'Jake', 'Amy'],\n",
    "        'pre_score': [4, 24, 31, 2, 3],\n",
    "        'mid_score': [25, 94, 57, 62, 70],\n",
    "        'post_score': [5, 43, 23, 23, 51]}\n",
    "dfz = pd.DataFrame(raw_data, columns = ['first_name', 'pre_score', 'mid_score', 'post_score'])\n",
    "dfz\n",
    "\n",
    "# Create a figure with a single subplot\n",
    "f, ax = plt.subplots(1, figsize=(10,5))\n",
    "\n",
    "# Set bar width at 1\n",
    "bar_width = 1\n",
    "\n",
    "# positions of the left bar-boundaries\n",
    "bar_l = [i for i in range(len(dfz['pre_score']))]\n",
    "\n",
    "# positions of the x-axis ticks (center of the bars as bar labels)\n",
    "tick_pos = [i+(bar_width/2) for i in bar_l]\n",
    "\n",
    "# Create the total score for each participant\n",
    "totals = [i+j+k for i,j,k in zip(dfz['pre_score'], dfz['mid_score'], dfz['post_score'])]\n",
    "\n",
    "# Create the percentage of the total score the pre_score value for each participant was\n",
    "pre_rel = [i / j * 100 for  i,j in zip(dfz['pre_score'], totals)]\n",
    "\n",
    "# Create the percentage of the total score the mid_score value for each participant was\n",
    "mid_rel = [i / j * 100 for  i,j in zip(dfz['mid_score'], totals)]\n",
    "\n",
    "# Create the percentage of the total score the post_score value for each participant was\n",
    "post_rel = [i / j * 100 for  i,j in zip(dfz['post_score'], totals)]\n",
    "\n",
    "# Create a bar chart in position bar_1\n",
    "ax.bar(bar_l,\n",
    "       # using pre_rel data\n",
    "       pre_rel,\n",
    "       # labeled\n",
    "       label='Pre Score',\n",
    "       # with alpha\n",
    "       alpha=0.9,\n",
    "       # with color\n",
    "       color='#019600',\n",
    "       # with bar width\n",
    "       width=bar_width,\n",
    "       # with border color\n",
    "       edgecolor='white'\n",
    "       )\n",
    "\n",
    "# Create a bar chart in position bar_1\n",
    "ax.bar(bar_l,\n",
    "       # using mid_rel data\n",
    "       mid_rel,\n",
    "       # with pre_rel\n",
    "       bottom=pre_rel,\n",
    "       # labeled\n",
    "       label='Mid Score',\n",
    "       # with alpha\n",
    "       alpha=0.9,\n",
    "       # with color\n",
    "       color='#3C5F5A',\n",
    "       # with bar width\n",
    "       width=bar_width,\n",
    "       # with border color\n",
    "       edgecolor='white'\n",
    "       )\n",
    "\n",
    "# Create a bar chart in position bar_1\n",
    "ax.bar(bar_l,\n",
    "       # using post_rel data\n",
    "       post_rel,\n",
    "       # with pre_rel and mid_rel on bottom\n",
    "       bottom=[i+j for i,j in zip(pre_rel, mid_rel)],\n",
    "       # labeled\n",
    "       label='Post Score',\n",
    "       # with alpha\n",
    "       alpha=0.9,\n",
    "       # with color\n",
    "       color='#219AD8',\n",
    "       # with bar width\n",
    "       width=bar_width,\n",
    "       # with border color\n",
    "       edgecolor='white'\n",
    "       )\n",
    "\n",
    "# Set the ticks to be first names\n",
    "plt.xticks(tick_pos, dfz['first_name'])\n",
    "ax.set_ylabel(\"Percentage\")\n",
    "ax.set_xlabel(\"\")\n",
    "\n",
    "# Let the borders of the graphic\n",
    "plt.xlim([min(tick_pos)-bar_width, max(tick_pos)+bar_width])\n",
    "plt.ylim(-10, 110)\n",
    "\n",
    "# rotate axis labels\n",
    "plt.setp(plt.gca().get_xticklabels(), rotation=45, horizontalalignment='right')\n",
    "\n",
    "# shot plot\n",
    "plt.show()"
   ]
  },
  {
   "cell_type": "code",
   "execution_count": 525,
   "metadata": {},
   "outputs": [
    {
     "data": {
      "image/png": "[encoded data removed]",
      "text/plain": [
       "<matplotlib.figure.Figure at 0x119991198>"
      ]
     },
     "metadata": {},
     "output_type": "display_data"
    }
   ],
   "source": [
    "fig, ax = plt.subplots()\n",
    "#\n",
    "xv = dfg['total_cancelled']/dfg['total_rescheduled']\n",
    "ax.bar(1. + np.arange(len(xv)), xv, align='center')\n",
    "# Annotate with text\n",
    "ax.set_xticks(1. + np.arange(len(xv)))\n",
    "for i, val in enumerate(xv):\n",
    "    ax.text(i+1, val/2, str(round(val, 2)*100)+'%', va='center',\n",
    "ha='center', color='black')\n",
    "ax.set_ylabel('%')\n",
    "ax.set_title('Relative Frequency Plot')\n",
    "plt.show()\n",
    "#savefig('./Graphs/fig1.pdf')"
   ]
  },
  {
   "cell_type": "code",
   "execution_count": null,
   "metadata": {
    "collapsed": true
   },
   "outputs": [],
   "source": [
    "df_temp = df.reset_index(inplace=True)"
   ]
  },
  {
   "cell_type": "code",
   "execution_count": 249,
   "metadata": {},
   "outputs": [
    {
     "data": {
      "text/html": [
       "<div>\n",
       "<style>\n",
       "    .dataframe thead tr:only-child th {\n",
       "        text-align: right;\n",
       "    }\n",
       "\n",
       "    .dataframe thead th {\n",
       "        text-align: left;\n",
       "    }\n",
       "\n",
       "    .dataframe tbody tr th {\n",
       "        vertical-align: top;\n",
       "    }\n",
       "</style>\n",
       "<table border=\"1\" class=\"dataframe\">\n",
       "  <thead>\n",
       "    <tr style=\"text-align: right;\">\n",
       "      <th></th>\n",
       "      <th>scheduled_on</th>\n",
       "      <th>app</th>\n",
       "      <th>scheduled_by</th>\n",
       "      <th>bu</th>\n",
       "      <th>total_originally_scheduled</th>\n",
       "      <th>total_rescheduled</th>\n",
       "      <th>total_cancelled</th>\n",
       "    </tr>\n",
       "    <tr>\n",
       "      <th>scheduled_on</th>\n",
       "      <th></th>\n",
       "      <th></th>\n",
       "      <th></th>\n",
       "      <th></th>\n",
       "      <th></th>\n",
       "      <th></th>\n",
       "      <th></th>\n",
       "    </tr>\n",
       "  </thead>\n",
       "  <tbody>\n",
       "    <tr>\n",
       "      <th>2016-11-01</th>\n",
       "      <td>2016-11-01</td>\n",
       "      <td>go</td>\n",
       "      <td>cm</td>\n",
       "      <td>corporate</td>\n",
       "      <td>6</td>\n",
       "      <td>1</td>\n",
       "      <td>1</td>\n",
       "    </tr>\n",
       "    <tr>\n",
       "      <th>2016-11-01</th>\n",
       "      <td>2016-11-01</td>\n",
       "      <td>go</td>\n",
       "      <td>cm</td>\n",
       "      <td>psf</td>\n",
       "      <td>2</td>\n",
       "      <td>1</td>\n",
       "      <td>0</td>\n",
       "    </tr>\n",
       "    <tr>\n",
       "      <th>2016-11-01</th>\n",
       "      <td>2016-11-01</td>\n",
       "      <td>go</td>\n",
       "      <td>cm</td>\n",
       "      <td>lifeSciences</td>\n",
       "      <td>4</td>\n",
       "      <td>2</td>\n",
       "      <td>1</td>\n",
       "    </tr>\n",
       "    <tr>\n",
       "      <th>2016-11-01</th>\n",
       "      <td>2016-11-01</td>\n",
       "      <td>go</td>\n",
       "      <td>cm</td>\n",
       "      <td>fs</td>\n",
       "      <td>63</td>\n",
       "      <td>16</td>\n",
       "      <td>9</td>\n",
       "    </tr>\n",
       "    <tr>\n",
       "      <th>2016-11-01</th>\n",
       "      <td>2016-11-01</td>\n",
       "      <td>go-engage</td>\n",
       "      <td>rm</td>\n",
       "      <td>fs</td>\n",
       "      <td>4</td>\n",
       "      <td>1</td>\n",
       "      <td>0</td>\n",
       "    </tr>\n",
       "  </tbody>\n",
       "</table>\n",
       "</div>"
      ],
      "text/plain": [
       "             scheduled_on        app scheduled_by            bu  \\\n",
       "scheduled_on                                                      \n",
       "2016-11-01     2016-11-01         go           cm     corporate   \n",
       "2016-11-01     2016-11-01         go           cm           psf   \n",
       "2016-11-01     2016-11-01         go           cm  lifeSciences   \n",
       "2016-11-01     2016-11-01         go           cm            fs   \n",
       "2016-11-01     2016-11-01  go-engage           rm            fs   \n",
       "\n",
       "              total_originally_scheduled  total_rescheduled  total_cancelled  \n",
       "scheduled_on                                                                  \n",
       "2016-11-01                             6                  1                1  \n",
       "2016-11-01                             2                  1                0  \n",
       "2016-11-01                             4                  2                1  \n",
       "2016-11-01                            63                 16                9  \n",
       "2016-11-01                             4                  1                0  "
      ]
     },
     "execution_count": 249,
     "metadata": {},
     "output_type": "execute_result"
    }
   ],
   "source": [
    "df_temp = df\n",
    "df_temp.index = df_temp[\"scheduled_on\"]\n",
    "df_temp.head()"
   ]
  },
  {
   "cell_type": "code",
   "execution_count": 250,
   "metadata": {
    "collapsed": true
   },
   "outputs": [],
   "source": []
  },
  {
   "cell_type": "code",
   "execution_count": null,
   "metadata": {},
   "outputs": [],
   "source": []
  },
  {
   "cell_type": "code",
   "execution_count": null,
   "metadata": {},
   "outputs": [],
   "source": []
  },
  {
   "cell_type": "code",
   "execution_count": null,
   "metadata": {
    "collapsed": true
   },
   "outputs": [],
   "source": []
  },
  {
   "cell_type": "code",
   "execution_count": null,
   "metadata": {},
   "outputs": [],
   "source": []
  },
  {
   "cell_type": "code",
   "execution_count": null,
   "metadata": {},
   "outputs": [],
   "source": []
  },
  {
   "cell_type": "code",
   "execution_count": null,
   "metadata": {
    "collapsed": true
   },
   "outputs": [],
   "source": []
  }
 ],
 "metadata": {
  "kernelspec": {
   "display_name": "Python 3",
   "language": "python",
   "name": "python3"
  },
  "language_info": {
   "codemirror_mode": {
    "name": "ipython",
    "version": 3
   },
   "file_extension": ".py",
   "mimetype": "text/x-python",
   "name": "python",
   "nbconvert_exporter": "python",
   "pygments_lexer": "ipython3",
   "version": "3.6.2"
  }
 },
 "nbformat": 4,
 "nbformat_minor": 2
}
