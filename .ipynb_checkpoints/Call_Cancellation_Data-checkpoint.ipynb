{
 "cells": [
  {
   "cell_type": "code",
   "execution_count": 326,
   "metadata": {},
   "outputs": [],
   "source": [
    "#%load_ext autoreload\n",
    "#%autoreload 2\n",
    "%reload_ext autoreload\n",
    "from matplotlib.pyplot import *\n",
    "import matplotlib.pyplot as plt\n",
    "import jupyter\n",
    "import pymssql\n",
    "import plotly \n",
    "plotly.tools.set_credentials_file(username='perryraskin', api_key='2Qc3hhnv8Z4aEiUdajJ2')\n",
    "import plotly.plotly as py\n",
    "import plotly.graph_objs as go\n",
    "from plotly.graph_objs import *\n",
    "import pandas as pd\n",
    "import numpy as np\n",
    "from datetime import datetime\n",
    "from sklearn import preprocessing\n",
    "%matplotlib inline\n",
    "pd.options.mode.chained_assignment = None\n",
    "import glglive\n",
    "import dateutil\n",
    "import datetime as dt"
   ]
  },
  {
   "cell_type": "code",
   "execution_count": 231,
   "metadata": {
    "collapsed": true
   },
   "outputs": [],
   "source": [
    "glg_data = glglive.pandas_the_data('./sql/Call_Cancellations.sql')"
   ]
  },
  {
   "cell_type": "code",
   "execution_count": 232,
   "metadata": {
    "scrolled": false
   },
   "outputs": [
    {
     "data": {
      "text/html": [
       "<div>\n",
       "<style>\n",
       "    .dataframe thead tr:only-child th {\n",
       "        text-align: right;\n",
       "    }\n",
       "\n",
       "    .dataframe thead th {\n",
       "        text-align: left;\n",
       "    }\n",
       "\n",
       "    .dataframe tbody tr th {\n",
       "        vertical-align: top;\n",
       "    }\n",
       "</style>\n",
       "<table border=\"1\" class=\"dataframe\">\n",
       "  <thead>\n",
       "    <tr style=\"text-align: right;\">\n",
       "      <th></th>\n",
       "      <th>scheduled_on</th>\n",
       "      <th>app</th>\n",
       "      <th>scheduled_by</th>\n",
       "      <th>bu</th>\n",
       "      <th>total_originally_scheduled</th>\n",
       "      <th>total_rescheduled</th>\n",
       "      <th>total_cancelled</th>\n",
       "    </tr>\n",
       "  </thead>\n",
       "  <tbody>\n",
       "    <tr>\n",
       "      <th>0</th>\n",
       "      <td>2016-11-01</td>\n",
       "      <td>go</td>\n",
       "      <td>cm</td>\n",
       "      <td>corporate</td>\n",
       "      <td>6</td>\n",
       "      <td>1</td>\n",
       "      <td>1</td>\n",
       "    </tr>\n",
       "    <tr>\n",
       "      <th>1</th>\n",
       "      <td>2016-11-01</td>\n",
       "      <td>go</td>\n",
       "      <td>cm</td>\n",
       "      <td>psf</td>\n",
       "      <td>2</td>\n",
       "      <td>1</td>\n",
       "      <td>0</td>\n",
       "    </tr>\n",
       "    <tr>\n",
       "      <th>2</th>\n",
       "      <td>2016-11-01</td>\n",
       "      <td>go</td>\n",
       "      <td>cm</td>\n",
       "      <td>lifeSciences</td>\n",
       "      <td>4</td>\n",
       "      <td>2</td>\n",
       "      <td>1</td>\n",
       "    </tr>\n",
       "    <tr>\n",
       "      <th>3</th>\n",
       "      <td>2016-11-01</td>\n",
       "      <td>go</td>\n",
       "      <td>cm</td>\n",
       "      <td>fs</td>\n",
       "      <td>63</td>\n",
       "      <td>16</td>\n",
       "      <td>9</td>\n",
       "    </tr>\n",
       "    <tr>\n",
       "      <th>4</th>\n",
       "      <td>2016-11-01</td>\n",
       "      <td>go-engage</td>\n",
       "      <td>rm</td>\n",
       "      <td>fs</td>\n",
       "      <td>4</td>\n",
       "      <td>1</td>\n",
       "      <td>0</td>\n",
       "    </tr>\n",
       "  </tbody>\n",
       "</table>\n",
       "</div>"
      ],
      "text/plain": [
       "  scheduled_on        app scheduled_by            bu  \\\n",
       "0   2016-11-01         go           cm     corporate   \n",
       "1   2016-11-01         go           cm           psf   \n",
       "2   2016-11-01         go           cm  lifeSciences   \n",
       "3   2016-11-01         go           cm            fs   \n",
       "4   2016-11-01  go-engage           rm            fs   \n",
       "\n",
       "   total_originally_scheduled  total_rescheduled  total_cancelled  \n",
       "0                           6                  1                1  \n",
       "1                           2                  1                0  \n",
       "2                           4                  2                1  \n",
       "3                          63                 16                9  \n",
       "4                           4                  1                0  "
      ]
     },
     "execution_count": 232,
     "metadata": {},
     "output_type": "execute_result"
    }
   ],
   "source": [
    "glg_data.head()"
   ]
  },
  {
   "cell_type": "code",
   "execution_count": 233,
   "metadata": {
    "collapsed": true
   },
   "outputs": [],
   "source": [
    "df = pd.DataFrame(glg_data)"
   ]
  },
  {
   "cell_type": "code",
   "execution_count": 234,
   "metadata": {},
   "outputs": [
    {
     "data": {
      "text/html": [
       "<div>\n",
       "<style>\n",
       "    .dataframe thead tr:only-child th {\n",
       "        text-align: right;\n",
       "    }\n",
       "\n",
       "    .dataframe thead th {\n",
       "        text-align: left;\n",
       "    }\n",
       "\n",
       "    .dataframe tbody tr th {\n",
       "        vertical-align: top;\n",
       "    }\n",
       "</style>\n",
       "<table border=\"1\" class=\"dataframe\">\n",
       "  <thead>\n",
       "    <tr style=\"text-align: right;\">\n",
       "      <th></th>\n",
       "      <th>scheduled_on</th>\n",
       "      <th>app</th>\n",
       "      <th>scheduled_by</th>\n",
       "      <th>bu</th>\n",
       "      <th>total_originally_scheduled</th>\n",
       "      <th>total_rescheduled</th>\n",
       "      <th>total_cancelled</th>\n",
       "    </tr>\n",
       "  </thead>\n",
       "  <tbody>\n",
       "    <tr>\n",
       "      <th>0</th>\n",
       "      <td>2016-11-01</td>\n",
       "      <td>go</td>\n",
       "      <td>cm</td>\n",
       "      <td>corporate</td>\n",
       "      <td>6</td>\n",
       "      <td>1</td>\n",
       "      <td>1</td>\n",
       "    </tr>\n",
       "    <tr>\n",
       "      <th>1</th>\n",
       "      <td>2016-11-01</td>\n",
       "      <td>go</td>\n",
       "      <td>cm</td>\n",
       "      <td>psf</td>\n",
       "      <td>2</td>\n",
       "      <td>1</td>\n",
       "      <td>0</td>\n",
       "    </tr>\n",
       "    <tr>\n",
       "      <th>2</th>\n",
       "      <td>2016-11-01</td>\n",
       "      <td>go</td>\n",
       "      <td>cm</td>\n",
       "      <td>lifeSciences</td>\n",
       "      <td>4</td>\n",
       "      <td>2</td>\n",
       "      <td>1</td>\n",
       "    </tr>\n",
       "    <tr>\n",
       "      <th>3</th>\n",
       "      <td>2016-11-01</td>\n",
       "      <td>go</td>\n",
       "      <td>cm</td>\n",
       "      <td>fs</td>\n",
       "      <td>63</td>\n",
       "      <td>16</td>\n",
       "      <td>9</td>\n",
       "    </tr>\n",
       "    <tr>\n",
       "      <th>4</th>\n",
       "      <td>2016-11-01</td>\n",
       "      <td>go-engage</td>\n",
       "      <td>rm</td>\n",
       "      <td>fs</td>\n",
       "      <td>4</td>\n",
       "      <td>1</td>\n",
       "      <td>0</td>\n",
       "    </tr>\n",
       "  </tbody>\n",
       "</table>\n",
       "</div>"
      ],
      "text/plain": [
       "  scheduled_on        app scheduled_by            bu  \\\n",
       "0   2016-11-01         go           cm     corporate   \n",
       "1   2016-11-01         go           cm           psf   \n",
       "2   2016-11-01         go           cm  lifeSciences   \n",
       "3   2016-11-01         go           cm            fs   \n",
       "4   2016-11-01  go-engage           rm            fs   \n",
       "\n",
       "   total_originally_scheduled  total_rescheduled  total_cancelled  \n",
       "0                           6                  1                1  \n",
       "1                           2                  1                0  \n",
       "2                           4                  2                1  \n",
       "3                          63                 16                9  \n",
       "4                           4                  1                0  "
      ]
     },
     "execution_count": 234,
     "metadata": {},
     "output_type": "execute_result"
    }
   ],
   "source": [
    "df.head()"
   ]
  },
  {
   "cell_type": "code",
   "execution_count": 235,
   "metadata": {
    "collapsed": true
   },
   "outputs": [],
   "source": [
    "df3 = pd.DataFrame(np.random.randn(1000, 2), columns=['B', 'C']).cumsum()"
   ]
  },
  {
   "cell_type": "code",
   "execution_count": 236,
   "metadata": {
    "collapsed": true
   },
   "outputs": [],
   "source": [
    "df3['A'] = pd.Series(list(range(len(df))))"
   ]
  },
  {
   "cell_type": "code",
   "execution_count": 237,
   "metadata": {},
   "outputs": [
    {
     "data": {
      "text/plain": [
       "<matplotlib.axes._subplots.AxesSubplot at 0x10456f320>"
      ]
     },
     "execution_count": 237,
     "metadata": {},
     "output_type": "execute_result"
    },
    {
     "data": {
      "image/png": "[encoded data removed]",
      "text/plain": [
       "<matplotlib.figure.Figure at 0x10ce7b828>"
      ]
     },
     "metadata": {},
     "output_type": "display_data"
    }
   ],
   "source": [
    "df3.plot(x='A', y='B')"
   ]
  },
  {
   "cell_type": "code",
   "execution_count": 238,
   "metadata": {},
   "outputs": [
    {
     "data": {
      "text/plain": [
       "<matplotlib.text.Text at 0x10837ed68>"
      ]
     },
     "execution_count": 238,
     "metadata": {},
     "output_type": "execute_result"
    },
    {
     "data": {
      "image/png": "[encoded data removed]",
      "text/plain": [
       "<matplotlib.figure.Figure at 0x10be2a438>"
      ]
     },
     "metadata": {},
     "output_type": "display_data"
    }
   ],
   "source": [
    "#-- TOTAL RESCHEDULED/CANCELLED CALLS THIS MONTH--#\n",
    "\n",
    "# sort df by descending Total Scheduled Calls\n",
    "#dfsw = df.sort_values(['Total_Scheduled_Calls'], ascending=False)\n",
    "\n",
    "# only show data from this month\n",
    "df['scheduled_on'] = pd.to_datetime(df['scheduled_on'])\n",
    "mask = (df['scheduled_on'] >= '2017-07-01') & (df['scheduled_on'] <= '2017-07-31')\n",
    "dfm = df.loc[mask]\n",
    "\n",
    "# group by type of scheduler and sum amount of calls\n",
    "dfg = dfm.groupby(['scheduled_by']).sum().reset_index()\n",
    "\n",
    "# values from table\n",
    "groups = [[dfg['total_rescheduled'][0], dfg['total_cancelled'][0]],\n",
    "       [dfg['total_rescheduled'][1], dfg['total_cancelled'][1]],\n",
    "       [dfg['total_rescheduled'][2], dfg['total_cancelled'][2]]]\n",
    "\n",
    "group_labels = [dfg['scheduled_by'][0], dfg['scheduled_by'][1], dfg['scheduled_by'][2]]\n",
    "group_metrics = [\"Rescheduled\",\"Cancelled\"]\n",
    "\n",
    "data = pd.DataFrame(groups, index = group_labels, columns = group_metrics)\n",
    "\n",
    "data.plot.bar(rot=0).legend(bbox_to_anchor=(1, 1))\n",
    "plt.title('Total Scheduled Calls for July', fontsize= 18)\n",
    "plt.xlabel('Scheduled by', fontsize=16) #xlabel\n",
    "plt.ylabel('Total Calls', fontsize=16) #ylabel"
   ]
  },
  {
   "cell_type": "code",
   "execution_count": null,
   "metadata": {},
   "outputs": [],
   "source": []
  },
  {
   "cell_type": "code",
   "execution_count": null,
   "metadata": {
    "collapsed": true
   },
   "outputs": [],
   "source": []
  },
  {
   "cell_type": "code",
   "execution_count": 292,
   "metadata": {},
   "outputs": [
    {
     "data": {
      "text/plain": [
       "<matplotlib.text.Text at 0x10e04b5f8>"
      ]
     },
     "execution_count": 292,
     "metadata": {},
     "output_type": "execute_result"
    },
    {
     "data": {
      "image/png": "[encoded data removed]",
      "text/plain": [
       "<matplotlib.figure.Figure at 0x10df9b3c8>"
      ]
     },
     "metadata": {},
     "output_type": "display_data"
    }
   ],
   "source": [
    "#-- TOTAL CANCELLED CALLS THIS MONTH--#\n",
    "\n",
    "# sort df by descending Total Scheduled Calls\n",
    "#dfsw = df.sort_values(['Total_Scheduled_Calls'], ascending=False)\n",
    "\n",
    "# only show data from this month\n",
    "df['scheduled_on'] = pd.to_datetime(df['scheduled_on'])\n",
    "mask = (df['scheduled_on'] >= '2017-07-01') & (df['scheduled_on'] <= '2017-07-31')\n",
    "dfm = df.loc[mask]\n",
    "\n",
    "# group by type of scheduler and sum amount of calls\n",
    "dfg = dfm.groupby(['scheduled_by']).sum().reset_index()\n",
    "\n",
    "# values from table\n",
    "groups = [[dfg['total_cancelled'][0]],\n",
    "       [dfg['total_cancelled'][1]],\n",
    "       [dfg['total_cancelled'][2]]]\n",
    "\n",
    "group_labels = [dfg['scheduled_by'][0], dfg['scheduled_by'][1], dfg['scheduled_by'][2]]\n",
    "group_metrics = [\"Cancelled\"]\n",
    "data = pd.DataFrame(groups, index = group_labels, columns = group_metrics)\n",
    "\n",
    "data.plot.bar(rot=0, color=\"red\").legend(bbox_to_anchor=(1, 1))\n",
    "plt.title('Total Cancelled Calls for July', fontsize= 18)\n",
    "plt.xlabel('Scheduled by', fontsize=16) #xlabel\n",
    "plt.ylabel('Total Calls', fontsize=16) #ylabel"
   ]
  },
  {
   "cell_type": "code",
   "execution_count": 327,
   "metadata": {},
   "outputs": [
    {
     "data": {
      "text/plain": [
       "<matplotlib.text.Text at 0x10ef02cf8>"
      ]
     },
     "execution_count": 327,
     "metadata": {},
     "output_type": "execute_result"
    },
    {
     "data": {
      "image/png": "[encoded data removed]",
      "text/plain": [
       "<matplotlib.figure.Figure at 0x10ec27c88>"
      ]
     },
     "metadata": {},
     "output_type": "display_data"
    }
   ],
   "source": [
    "#-- TOTAL RESCHEDULED/CANCELLED CALLS BY MONTH--#\n",
    "\n",
    "# Group by month\n",
    "dfi = df\n",
    "dfi.index = dfi[\"scheduled_on\"]\n",
    "dfg = dfi.resample('M').sum()\n",
    "\n",
    "# Values from table\n",
    "groups = [[dfg['total_rescheduled'][0], dfg['total_cancelled'][0]],\n",
    "         [dfg['total_rescheduled'][1], dfg['total_cancelled'][1]],\n",
    "         [dfg['total_rescheduled'][2], dfg['total_cancelled'][2]],\n",
    "         [dfg['total_rescheduled'][3], dfg['total_cancelled'][3]],\n",
    "         [dfg['total_rescheduled'][4], dfg['total_cancelled'][4]],\n",
    "         [dfg['total_rescheduled'][5], dfg['total_cancelled'][5]],\n",
    "         [dfg['total_rescheduled'][6], dfg['total_cancelled'][6]],\n",
    "         [dfg['total_rescheduled'][7], dfg['total_cancelled'][7]],\n",
    "         [dfg['total_rescheduled'][8], dfg['total_cancelled'][8]],\n",
    "         [dfg['total_rescheduled'][9], dfg['total_cancelled'][9]]]\n",
    "\n",
    "group_labels=[]\n",
    "for i in dfg.index:\n",
    "    group_labels.append(i.month)\n",
    "\n",
    "group_metrics = [\"Rescheduled\", \"Cancelled\"]\n",
    "\n",
    "data = pd.DataFrame(groups, index = group_labels, columns = group_metrics)\n",
    "\n",
    "data.plot.bar(rot=0, stacked=True).legend(bbox_to_anchor=(1, 1))\n",
    "plt.title('Rescheduled and Cancelled Calls', fontsize= 18)\n",
    "plt.xlabel('Month', fontsize=16) #xlabel\n",
    "plt.ylabel('Total Calls', fontsize=16) #ylabel"
   ]
  },
  {
   "cell_type": "code",
   "execution_count": 319,
   "metadata": {},
   "outputs": [
    {
     "data": {
      "text/html": [
       "<div>\n",
       "<style>\n",
       "    .dataframe thead tr:only-child th {\n",
       "        text-align: right;\n",
       "    }\n",
       "\n",
       "    .dataframe thead th {\n",
       "        text-align: left;\n",
       "    }\n",
       "\n",
       "    .dataframe tbody tr th {\n",
       "        vertical-align: top;\n",
       "    }\n",
       "</style>\n",
       "<table border=\"1\" class=\"dataframe\">\n",
       "  <thead>\n",
       "    <tr style=\"text-align: right;\">\n",
       "      <th></th>\n",
       "      <th>total_originally_scheduled</th>\n",
       "      <th>total_rescheduled</th>\n",
       "      <th>total_cancelled</th>\n",
       "    </tr>\n",
       "    <tr>\n",
       "      <th>scheduled_on</th>\n",
       "      <th></th>\n",
       "      <th></th>\n",
       "      <th></th>\n",
       "    </tr>\n",
       "  </thead>\n",
       "  <tbody>\n",
       "    <tr>\n",
       "      <th>2016-11-30</th>\n",
       "      <td>22985</td>\n",
       "      <td>7492</td>\n",
       "      <td>3613</td>\n",
       "    </tr>\n",
       "    <tr>\n",
       "      <th>2016-12-31</th>\n",
       "      <td>17665</td>\n",
       "      <td>5746</td>\n",
       "      <td>2627</td>\n",
       "    </tr>\n",
       "    <tr>\n",
       "      <th>2017-01-31</th>\n",
       "      <td>22852</td>\n",
       "      <td>7598</td>\n",
       "      <td>3362</td>\n",
       "    </tr>\n",
       "    <tr>\n",
       "      <th>2017-02-28</th>\n",
       "      <td>22985</td>\n",
       "      <td>7840</td>\n",
       "      <td>3544</td>\n",
       "    </tr>\n",
       "    <tr>\n",
       "      <th>2017-03-31</th>\n",
       "      <td>27652</td>\n",
       "      <td>9705</td>\n",
       "      <td>4318</td>\n",
       "    </tr>\n",
       "    <tr>\n",
       "      <th>2017-04-30</th>\n",
       "      <td>23458</td>\n",
       "      <td>8252</td>\n",
       "      <td>3874</td>\n",
       "    </tr>\n",
       "    <tr>\n",
       "      <th>2017-05-31</th>\n",
       "      <td>26269</td>\n",
       "      <td>9413</td>\n",
       "      <td>4343</td>\n",
       "    </tr>\n",
       "    <tr>\n",
       "      <th>2017-06-30</th>\n",
       "      <td>26822</td>\n",
       "      <td>9423</td>\n",
       "      <td>4288</td>\n",
       "    </tr>\n",
       "    <tr>\n",
       "      <th>2017-07-31</th>\n",
       "      <td>25362</td>\n",
       "      <td>8866</td>\n",
       "      <td>4038</td>\n",
       "    </tr>\n",
       "    <tr>\n",
       "      <th>2017-08-31</th>\n",
       "      <td>10719</td>\n",
       "      <td>3314</td>\n",
       "      <td>1409</td>\n",
       "    </tr>\n",
       "  </tbody>\n",
       "</table>\n",
       "</div>"
      ],
      "text/plain": [
       "              total_originally_scheduled  total_rescheduled  total_cancelled\n",
       "scheduled_on                                                                \n",
       "2016-11-30                         22985               7492             3613\n",
       "2016-12-31                         17665               5746             2627\n",
       "2017-01-31                         22852               7598             3362\n",
       "2017-02-28                         22985               7840             3544\n",
       "2017-03-31                         27652               9705             4318\n",
       "2017-04-30                         23458               8252             3874\n",
       "2017-05-31                         26269               9413             4343\n",
       "2017-06-30                         26822               9423             4288\n",
       "2017-07-31                         25362               8866             4038\n",
       "2017-08-31                         10719               3314             1409"
      ]
     },
     "execution_count": 319,
     "metadata": {},
     "output_type": "execute_result"
    }
   ],
   "source": [
    "dfg"
   ]
  },
  {
   "cell_type": "code",
   "execution_count": 312,
   "metadata": {},
   "outputs": [
    {
     "data": {
      "text/plain": [
       "[]"
      ]
     },
     "execution_count": 312,
     "metadata": {},
     "output_type": "execute_result"
    }
   ],
   "source": [
    "groups=[]\n",
    "for i in [dfg['total_rescheduled'], dfg['total_cancelled']]:\n",
    "    group_labels.append([i,i])\n",
    "groups"
   ]
  },
  {
   "cell_type": "code",
   "execution_count": 339,
   "metadata": {},
   "outputs": [
    {
     "data": {
      "text/plain": [
       "[[7492, 3613],\n",
       " [5746, 2627],\n",
       " [7598, 3362],\n",
       " [7840, 3544],\n",
       " [9705, 4318],\n",
       " [8252, 3874],\n",
       " [9413, 4343],\n",
       " [9423, 4288],\n",
       " [8866, 4038],\n",
       " [3314, 1409]]"
      ]
     },
     "execution_count": 339,
     "metadata": {},
     "output_type": "execute_result"
    }
   ],
   "source": [
    "groups"
   ]
  },
  {
   "cell_type": "code",
   "execution_count": 246,
   "metadata": {},
   "outputs": [
    {
     "data": {
      "text/html": [
       "<div>\n",
       "<style>\n",
       "    .dataframe thead tr:only-child th {\n",
       "        text-align: right;\n",
       "    }\n",
       "\n",
       "    .dataframe thead th {\n",
       "        text-align: left;\n",
       "    }\n",
       "\n",
       "    .dataframe tbody tr th {\n",
       "        vertical-align: top;\n",
       "    }\n",
       "</style>\n",
       "<table border=\"1\" class=\"dataframe\">\n",
       "  <thead>\n",
       "    <tr style=\"text-align: right;\">\n",
       "      <th></th>\n",
       "      <th>total_originally_scheduled</th>\n",
       "      <th>total_rescheduled</th>\n",
       "      <th>total_cancelled</th>\n",
       "    </tr>\n",
       "  </thead>\n",
       "  <tbody>\n",
       "    <tr>\n",
       "      <th>1970-01-31</th>\n",
       "      <td>226769</td>\n",
       "      <td>77649</td>\n",
       "      <td>35416</td>\n",
       "    </tr>\n",
       "  </tbody>\n",
       "</table>\n",
       "</div>"
      ],
      "text/plain": [
       "            total_originally_scheduled  total_rescheduled  total_cancelled\n",
       "1970-01-31                      226769              77649            35416"
      ]
     },
     "execution_count": 246,
     "metadata": {},
     "output_type": "execute_result"
    }
   ],
   "source": [
    "# Group by month\n",
    "dfg = df.resample('M').sum()\n",
    "dfg"
   ]
  },
  {
   "cell_type": "code",
   "execution_count": null,
   "metadata": {
    "collapsed": true
   },
   "outputs": [],
   "source": [
    "df_temp = df.reset_index(inplace=True)"
   ]
  },
  {
   "cell_type": "code",
   "execution_count": 249,
   "metadata": {},
   "outputs": [
    {
     "data": {
      "text/html": [
       "<div>\n",
       "<style>\n",
       "    .dataframe thead tr:only-child th {\n",
       "        text-align: right;\n",
       "    }\n",
       "\n",
       "    .dataframe thead th {\n",
       "        text-align: left;\n",
       "    }\n",
       "\n",
       "    .dataframe tbody tr th {\n",
       "        vertical-align: top;\n",
       "    }\n",
       "</style>\n",
       "<table border=\"1\" class=\"dataframe\">\n",
       "  <thead>\n",
       "    <tr style=\"text-align: right;\">\n",
       "      <th></th>\n",
       "      <th>scheduled_on</th>\n",
       "      <th>app</th>\n",
       "      <th>scheduled_by</th>\n",
       "      <th>bu</th>\n",
       "      <th>total_originally_scheduled</th>\n",
       "      <th>total_rescheduled</th>\n",
       "      <th>total_cancelled</th>\n",
       "    </tr>\n",
       "    <tr>\n",
       "      <th>scheduled_on</th>\n",
       "      <th></th>\n",
       "      <th></th>\n",
       "      <th></th>\n",
       "      <th></th>\n",
       "      <th></th>\n",
       "      <th></th>\n",
       "      <th></th>\n",
       "    </tr>\n",
       "  </thead>\n",
       "  <tbody>\n",
       "    <tr>\n",
       "      <th>2016-11-01</th>\n",
       "      <td>2016-11-01</td>\n",
       "      <td>go</td>\n",
       "      <td>cm</td>\n",
       "      <td>corporate</td>\n",
       "      <td>6</td>\n",
       "      <td>1</td>\n",
       "      <td>1</td>\n",
       "    </tr>\n",
       "    <tr>\n",
       "      <th>2016-11-01</th>\n",
       "      <td>2016-11-01</td>\n",
       "      <td>go</td>\n",
       "      <td>cm</td>\n",
       "      <td>psf</td>\n",
       "      <td>2</td>\n",
       "      <td>1</td>\n",
       "      <td>0</td>\n",
       "    </tr>\n",
       "    <tr>\n",
       "      <th>2016-11-01</th>\n",
       "      <td>2016-11-01</td>\n",
       "      <td>go</td>\n",
       "      <td>cm</td>\n",
       "      <td>lifeSciences</td>\n",
       "      <td>4</td>\n",
       "      <td>2</td>\n",
       "      <td>1</td>\n",
       "    </tr>\n",
       "    <tr>\n",
       "      <th>2016-11-01</th>\n",
       "      <td>2016-11-01</td>\n",
       "      <td>go</td>\n",
       "      <td>cm</td>\n",
       "      <td>fs</td>\n",
       "      <td>63</td>\n",
       "      <td>16</td>\n",
       "      <td>9</td>\n",
       "    </tr>\n",
       "    <tr>\n",
       "      <th>2016-11-01</th>\n",
       "      <td>2016-11-01</td>\n",
       "      <td>go-engage</td>\n",
       "      <td>rm</td>\n",
       "      <td>fs</td>\n",
       "      <td>4</td>\n",
       "      <td>1</td>\n",
       "      <td>0</td>\n",
       "    </tr>\n",
       "  </tbody>\n",
       "</table>\n",
       "</div>"
      ],
      "text/plain": [
       "             scheduled_on        app scheduled_by            bu  \\\n",
       "scheduled_on                                                      \n",
       "2016-11-01     2016-11-01         go           cm     corporate   \n",
       "2016-11-01     2016-11-01         go           cm           psf   \n",
       "2016-11-01     2016-11-01         go           cm  lifeSciences   \n",
       "2016-11-01     2016-11-01         go           cm            fs   \n",
       "2016-11-01     2016-11-01  go-engage           rm            fs   \n",
       "\n",
       "              total_originally_scheduled  total_rescheduled  total_cancelled  \n",
       "scheduled_on                                                                  \n",
       "2016-11-01                             6                  1                1  \n",
       "2016-11-01                             2                  1                0  \n",
       "2016-11-01                             4                  2                1  \n",
       "2016-11-01                            63                 16                9  \n",
       "2016-11-01                             4                  1                0  "
      ]
     },
     "execution_count": 249,
     "metadata": {},
     "output_type": "execute_result"
    }
   ],
   "source": [
    "df_temp = df\n",
    "df_temp.index = df_temp[\"scheduled_on\"]\n",
    "df_temp.head()"
   ]
  },
  {
   "cell_type": "code",
   "execution_count": 250,
   "metadata": {
    "collapsed": true
   },
   "outputs": [],
   "source": [
    "df_temp = df_temp.resample('M').sum()"
   ]
  },
  {
   "cell_type": "code",
   "execution_count": 272,
   "metadata": {},
   "outputs": [
    {
     "data": {
      "text/plain": [
       "[11, 12, 1, 2, 3, 4, 5, 6, 7, 8]"
      ]
     },
     "execution_count": 272,
     "metadata": {},
     "output_type": "execute_result"
    }
   ],
   "source": [
    "# Group by month\n",
    "labels=[]\n",
    "for i in dfg.index:\n",
    "    labels.append(i.month)\n",
    "labels"
   ]
  },
  {
   "cell_type": "code",
   "execution_count": 270,
   "metadata": {},
   "outputs": [
    {
     "data": {
      "text/html": [
       "<div>\n",
       "<style>\n",
       "    .dataframe thead tr:only-child th {\n",
       "        text-align: right;\n",
       "    }\n",
       "\n",
       "    .dataframe thead th {\n",
       "        text-align: left;\n",
       "    }\n",
       "\n",
       "    .dataframe tbody tr th {\n",
       "        vertical-align: top;\n",
       "    }\n",
       "</style>\n",
       "<table border=\"1\" class=\"dataframe\">\n",
       "  <thead>\n",
       "    <tr style=\"text-align: right;\">\n",
       "      <th></th>\n",
       "      <th>total_originally_scheduled</th>\n",
       "      <th>total_rescheduled</th>\n",
       "      <th>total_cancelled</th>\n",
       "    </tr>\n",
       "    <tr>\n",
       "      <th>scheduled_on</th>\n",
       "      <th></th>\n",
       "      <th></th>\n",
       "      <th></th>\n",
       "    </tr>\n",
       "  </thead>\n",
       "  <tbody>\n",
       "    <tr>\n",
       "      <th>2016-11-30</th>\n",
       "      <td>22985</td>\n",
       "      <td>7492</td>\n",
       "      <td>3613</td>\n",
       "    </tr>\n",
       "    <tr>\n",
       "      <th>2016-12-31</th>\n",
       "      <td>17665</td>\n",
       "      <td>5746</td>\n",
       "      <td>2627</td>\n",
       "    </tr>\n",
       "    <tr>\n",
       "      <th>2017-01-31</th>\n",
       "      <td>22852</td>\n",
       "      <td>7598</td>\n",
       "      <td>3362</td>\n",
       "    </tr>\n",
       "    <tr>\n",
       "      <th>2017-02-28</th>\n",
       "      <td>22985</td>\n",
       "      <td>7840</td>\n",
       "      <td>3544</td>\n",
       "    </tr>\n",
       "    <tr>\n",
       "      <th>2017-03-31</th>\n",
       "      <td>27652</td>\n",
       "      <td>9705</td>\n",
       "      <td>4318</td>\n",
       "    </tr>\n",
       "    <tr>\n",
       "      <th>2017-04-30</th>\n",
       "      <td>23458</td>\n",
       "      <td>8252</td>\n",
       "      <td>3874</td>\n",
       "    </tr>\n",
       "    <tr>\n",
       "      <th>2017-05-31</th>\n",
       "      <td>26269</td>\n",
       "      <td>9413</td>\n",
       "      <td>4343</td>\n",
       "    </tr>\n",
       "    <tr>\n",
       "      <th>2017-06-30</th>\n",
       "      <td>26822</td>\n",
       "      <td>9423</td>\n",
       "      <td>4288</td>\n",
       "    </tr>\n",
       "    <tr>\n",
       "      <th>2017-07-31</th>\n",
       "      <td>25362</td>\n",
       "      <td>8866</td>\n",
       "      <td>4038</td>\n",
       "    </tr>\n",
       "    <tr>\n",
       "      <th>2017-08-31</th>\n",
       "      <td>10719</td>\n",
       "      <td>3314</td>\n",
       "      <td>1409</td>\n",
       "    </tr>\n",
       "  </tbody>\n",
       "</table>\n",
       "</div>"
      ],
      "text/plain": [
       "              total_originally_scheduled  total_rescheduled  total_cancelled\n",
       "scheduled_on                                                                \n",
       "2016-11-30                         22985               7492             3613\n",
       "2016-12-31                         17665               5746             2627\n",
       "2017-01-31                         22852               7598             3362\n",
       "2017-02-28                         22985               7840             3544\n",
       "2017-03-31                         27652               9705             4318\n",
       "2017-04-30                         23458               8252             3874\n",
       "2017-05-31                         26269               9413             4343\n",
       "2017-06-30                         26822               9423             4288\n",
       "2017-07-31                         25362               8866             4038\n",
       "2017-08-31                         10719               3314             1409"
      ]
     },
     "execution_count": 270,
     "metadata": {},
     "output_type": "execute_result"
    }
   ],
   "source": [
    "dfg"
   ]
  },
  {
   "cell_type": "code",
   "execution_count": null,
   "metadata": {
    "collapsed": true
   },
   "outputs": [],
   "source": []
  }
 ],
 "metadata": {
  "kernelspec": {
   "display_name": "Python 3",
   "language": "python",
   "name": "python3"
  },
  "language_info": {
   "codemirror_mode": {
    "name": "ipython",
    "version": 3
   },
   "file_extension": ".py",
   "mimetype": "text/x-python",
   "name": "python",
   "nbconvert_exporter": "python",
   "pygments_lexer": "ipython3",
   "version": "3.6.2"
  }
 },
 "nbformat": 4,
 "nbformat_minor": 2
}
