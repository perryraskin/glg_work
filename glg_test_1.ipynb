{
 "cells": [
  {
   "cell_type": "code",
   "execution_count": 1,
   "metadata": {
    "collapsed": true
   },
   "outputs": [],
   "source": [
    "import pymssql\n",
    "import pandas as pd\n",
    "import numpy as np\n",
    "from datetime import datetime\n",
    "from sklearn import preprocessing\n",
    "%matplotlib inline\n",
    "pd.options.mode.chained_assignment = None\n",
    "import glglive"
   ]
  },
  {
   "cell_type": "code",
   "execution_count": 2,
   "metadata": {},
   "outputs": [
    {
     "name": "stdout",
     "output_type": "stream",
     "text": [
      "hello\n"
     ]
    }
   ],
   "source": [
    "glglive.say_hi()"
   ]
  },
  {
   "cell_type": "code",
   "execution_count": 3,
   "metadata": {},
   "outputs": [
    {
     "data": {
      "text/html": [
       "<div>\n",
       "<style>\n",
       "    .dataframe thead tr:only-child th {\n",
       "        text-align: right;\n",
       "    }\n",
       "\n",
       "    .dataframe thead th {\n",
       "        text-align: left;\n",
       "    }\n",
       "\n",
       "    .dataframe tbody tr th {\n",
       "        vertical-align: top;\n",
       "    }\n",
       "</style>\n",
       "<table border=\"1\" class=\"dataframe\">\n",
       "  <thead>\n",
       "    <tr style=\"text-align: right;\">\n",
       "      <th></th>\n",
       "      <th>PERSON_ID</th>\n",
       "      <th>FIRST_NAME</th>\n",
       "      <th>LAST_NAME</th>\n",
       "      <th>MIDDLE_INITIAL</th>\n",
       "      <th>TITLE</th>\n",
       "      <th>EMAIL</th>\n",
       "      <th>PREFIX_CODE</th>\n",
       "      <th>SUFFIXES</th>\n",
       "      <th>ACTIVE_IND</th>\n",
       "      <th>CREATE_DATE</th>\n",
       "      <th>...</th>\n",
       "      <th>HAS_LOGGED_INTO_BETA</th>\n",
       "      <th>IsBlindedIntermediary</th>\n",
       "      <th>LOCALIZED_NAME</th>\n",
       "      <th>PREFERRED_CULTURE</th>\n",
       "      <th>ZIP_DX_REGISTERED_EMAIL</th>\n",
       "      <th>NATIONALITY</th>\n",
       "      <th>ID_CODE</th>\n",
       "      <th>ID_CODE_FRONT_URL</th>\n",
       "      <th>ID_CODE_BACK_URL</th>\n",
       "      <th>WE_CHAT_ID</th>\n",
       "    </tr>\n",
       "  </thead>\n",
       "  <tbody>\n",
       "    <tr>\n",
       "      <th>0</th>\n",
       "      <td>2166076</td>\n",
       "      <td>thakor</td>\n",
       "      <td>sharma</td>\n",
       "      <td></td>\n",
       "      <td></td>\n",
       "      <td>thakorsharma@yahoo.com</td>\n",
       "      <td>14422</td>\n",
       "      <td></td>\n",
       "      <td>True</td>\n",
       "      <td>2017-07-13 05:51:24.510</td>\n",
       "      <td>...</td>\n",
       "      <td>None</td>\n",
       "      <td>False</td>\n",
       "      <td></td>\n",
       "      <td>en-SG</td>\n",
       "      <td>None</td>\n",
       "      <td>None</td>\n",
       "      <td>None</td>\n",
       "      <td>None</td>\n",
       "      <td>None</td>\n",
       "      <td>None</td>\n",
       "    </tr>\n",
       "  </tbody>\n",
       "</table>\n",
       "<p>1 rows × 35 columns</p>\n",
       "</div>"
      ],
      "text/plain": [
       "   PERSON_ID FIRST_NAME LAST_NAME MIDDLE_INITIAL TITLE  \\\n",
       "0    2166076     thakor    sharma                        \n",
       "\n",
       "                    EMAIL  PREFIX_CODE SUFFIXES  ACTIVE_IND  \\\n",
       "0  thakorsharma@yahoo.com        14422                 True   \n",
       "\n",
       "              CREATE_DATE    ...      HAS_LOGGED_INTO_BETA  \\\n",
       "0 2017-07-13 05:51:24.510    ...                      None   \n",
       "\n",
       "  IsBlindedIntermediary  LOCALIZED_NAME  PREFERRED_CULTURE  \\\n",
       "0                 False                              en-SG   \n",
       "\n",
       "  ZIP_DX_REGISTERED_EMAIL NATIONALITY ID_CODE ID_CODE_FRONT_URL  \\\n",
       "0                    None        None    None              None   \n",
       "\n",
       "  ID_CODE_BACK_URL WE_CHAT_ID  \n",
       "0             None       None  \n",
       "\n",
       "[1 rows x 35 columns]"
      ]
     },
     "execution_count": 3,
     "metadata": {},
     "output_type": "execute_result"
    }
   ],
   "source": [
    "glglive.pandas_the_data('./SQL/test.sql')"
   ]
  },
  {
   "cell_type": "markdown",
   "metadata": {
    "collapsed": true
   },
   "source": []
  },
  {
   "cell_type": "code",
   "execution_count": null,
   "metadata": {
    "collapsed": true
   },
   "outputs": [],
   "source": []
  }
 ],
 "metadata": {
  "kernelspec": {
   "display_name": "Python 2",
   "language": "python",
   "name": "python2"
  },
  "language_info": {
   "codemirror_mode": {
    "name": "ipython",
    "version": 2
   },
   "file_extension": ".py",
   "mimetype": "text/x-python",
   "name": "python",
   "nbconvert_exporter": "python",
   "pygments_lexer": "ipython2",
   "version": "2.7.13"
  }
 },
 "nbformat": 4,
 "nbformat_minor": 2
}
